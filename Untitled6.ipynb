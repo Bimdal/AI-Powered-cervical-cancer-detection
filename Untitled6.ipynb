{
  "nbformat": 4,
  "nbformat_minor": 0,
  "metadata": {
    "colab": {
      "provenance": [],
      "gpuType": "T4",
      "authorship_tag": "ABX9TyO+GE9nEO3y2CK8aWClj50q",
      "include_colab_link": true
    },
    "kernelspec": {
      "name": "python3",
      "display_name": "Python 3"
    },
    "language_info": {
      "name": "python"
    },
    "accelerator": "GPU"
  },
  "cells": [
    {
      "cell_type": "markdown",
      "metadata": {
        "id": "view-in-github",
        "colab_type": "text"
      },
      "source": [
        "<a href=\"https://colab.research.google.com/github/Bimdal/AI-Powered-cervical-cancer-detection/blob/main/Untitled6.ipynb\" target=\"_parent\"><img src=\"https://colab.research.google.com/assets/colab-badge.svg\" alt=\"Open In Colab\"/></a>"
      ]
    },
    {
      "cell_type": "code",
      "source": [
        "from google.colab import drive\n",
        "\n",
        "# Mount Google Drive\n",
        "drive.mount('/content/drive')"
      ],
      "metadata": {
        "colab": {
          "base_uri": "https://localhost:8080/"
        },
        "id": "g8hlOgLLOE0_",
        "outputId": "427c6351-9f85-4811-9aa8-23e695f95aa1"
      },
      "execution_count": null,
      "outputs": [
        {
          "output_type": "stream",
          "name": "stdout",
          "text": [
            "Drive already mounted at /content/drive; to attempt to forcibly remount, call drive.mount(\"/content/drive\", force_remount=True).\n"
          ]
        }
      ]
    },
    {
      "cell_type": "code",
      "source": [
        "import os\n",
        "print(os.listdir(\"/content/drive/My Drive\"))\n"
      ],
      "metadata": {
        "colab": {
          "base_uri": "https://localhost:8080/"
        },
        "id": "BukD9DXWc-wS",
        "outputId": "5c95d6ed-086d-4bbc-dcc6-65d9b13dcec8"
      },
      "execution_count": null,
      "outputs": [
        {
          "output_type": "stream",
          "name": "stdout",
          "text": [
            "['Getting started.pdf', 'Learning Log Template: Think about data in daily life.gdoc', 'Copy of Learning Log Template: Think about data in daily life.gdoc', 'Learning Log Template: Explore data from your daily life.gdoc', 'Learning Log Template: Reflect on your skills and expectations (1).gdoc', 'Learning Log Template: Reflect on your skills and expectations.gdoc', 'Course 1 Week 1 Glossary | DA terms and definitions.gdoc', 'Learning Log Template: Consider how data analysts approach tasks.gdoc', 'Copy of Learning Log Template: Consider how data analysts approach tasks.gdoc', 'Void_Cheque.pdf', \"BIMBO'S LAUTECH CERT (1).pdf\", \"BIMBO'S LAUTECH CERT.pdf\", 'cbap.pdf', 'Professional Scrum Master I.pdf', \"BIMBO'S ATTESTATION OF AGE NPC & AFFIDAVIT.pdf\", ' Valid Visa .pdf', '51402 - Business Analyst (PS3) - Written test.docx', 'Project Charter -Clinical Standards Framework - CG 3Oct2024.docx', 'Clinical Standards Framework Draft.docx', 'FA2024 HLTH 640 Final Eval (1) - CG.docx', 'FA2024 HLTH 640 Student Final Report - CG.docx', 'Copy of FA2024 HLTH 640 Student Final Report - CG.docx', 'Colab Notebooks', 'wes evaluatiom.pdf', 'RFR -DTS-019-Response Matrix - Project Manager_Sample.xlsx', 'BA-346 - Schedule A - Evaluation Criteria.docx', 'BA-346 - Schedule A - Evaluation Criteria.gdoc', 'Copy of BA-346 - Schedule A - Evaluation Criteria.gdoc', 'processed_clinical_data.csv', 'processed_clinical_data_head.csv', 'extracted_dat_features.csv', 'sipakmed_binary', 'sipakmed_backup', 'project', 'sipakmed_split', 'MultiClass', 'fixed_dataset', 'split_dataset']\n"
          ]
        }
      ]
    },
    {
      "cell_type": "code",
      "source": [
        "os.listdir(\"/content/drive/My Drive/sipakmed_backup\")\n"
      ],
      "metadata": {
        "colab": {
          "base_uri": "https://localhost:8080/"
        },
        "id": "DgMkPNEDeTuN",
        "outputId": "a7fcf11c-e991-4af1-c2a2-25f09f469dee"
      },
      "execution_count": null,
      "outputs": [
        {
          "output_type": "execute_result",
          "data": {
            "text/plain": [
              "['im_Parabasal_im_Parabasal',\n",
              " 'im_Superficial-Intermediate_im_Superficial-Intermediate',\n",
              " 'im_Dyskeratotic_im_Dyskeratotic',\n",
              " 'im_Metaplastic_im_Metaplastic',\n",
              " 'im_Koilocytotic_im_Koilocytotic']"
            ]
          },
          "metadata": {},
          "execution_count": 15
        }
      ]
    },
    {
      "cell_type": "markdown",
      "source": [],
      "metadata": {
        "id": "pWiZc0u3uO0N"
      }
    },
    {
      "cell_type": "code",
      "source": [
        "import os\n",
        "archive_path = \"/content/drive/My Drive/sipakmed_backup\"\n",
        "if os.path.exists(archive_path):\n",
        "    print(\"✅ Folder found!\")\n",
        "    print(os.listdir(archive_path))\n",
        "else:\n",
        "    print(\"❌ Folder not found!\")\n"
      ],
      "metadata": {
        "colab": {
          "base_uri": "https://localhost:8080/"
        },
        "id": "im6TzTmgg5F6",
        "outputId": "e88ec4a0-7254-4e81-d724-af1d7118f8a7"
      },
      "execution_count": null,
      "outputs": [
        {
          "output_type": "stream",
          "name": "stdout",
          "text": [
            "✅ Folder found!\n",
            "['im_Parabasal_im_Parabasal', 'im_Superficial-Intermediate_im_Superficial-Intermediate', 'im_Dyskeratotic_im_Dyskeratotic', 'im_Koilocytotic_im_Koilocytotic', 'im_Metaplastic_im_Metaplastic']\n"
          ]
        }
      ]
    },
    {
      "cell_type": "code",
      "source": [
        "import os\n",
        "\n",
        "ROOT_DIR = \"/content/drive/My Drive/sipakmed_backup\"\n",
        "\n",
        "# List files and folders inside ROOT_DIR\n",
        "if os.path.exists(ROOT_DIR):\n",
        "    print(f\"📂 Contents of {ROOT_DIR}:\")\n",
        "    print(os.listdir(ROOT_DIR))\n",
        "else:\n",
        "    print(f\"❌ Directory not found: {ROOT_DIR}\")\n"
      ],
      "metadata": {
        "colab": {
          "base_uri": "https://localhost:8080/"
        },
        "id": "qcI4dEjnxepK",
        "outputId": "631f1624-edf1-482f-8aca-22e500590dc4"
      },
      "execution_count": null,
      "outputs": [
        {
          "output_type": "stream",
          "name": "stdout",
          "text": [
            "📂 Contents of /content/drive/My Drive/sipakmed_backup:\n",
            "['im_Parabasal_im_Parabasal', 'im_Superficial-Intermediate_im_Superficial-Intermediate', 'im_Dyskeratotic_im_Dyskeratotic', 'im_Koilocytotic_im_Koilocytotic', 'im_Metaplastic_im_Metaplastic']\n"
          ]
        }
      ]
    },
    {
      "cell_type": "code",
      "source": [
        "import os\n",
        "\n",
        "\n",
        "\n",
        "inner_folder = \"/content/drive/My Drive/sipakmed_backup\"\n",
        "\n",
        "if os.path.exists(inner_folder):\n",
        "    all_files = os.listdir(inner_folder)\n",
        "    print(\"Files and folders inside the nested archive (12):\", all_files)\n",
        "else:\n",
        "    print(\"Nested archive (12) folder not found!\")\n",
        "\n",
        "\n",
        "if os.path.exists(inner_folder):\n",
        "    all_files = os.listdir(inner_folder)\n",
        "    print(\"Files and folders inside the nested archive (12):\", all_files)\n",
        "else:\n",
        "    print(\"Nested archive (12) folder not found!\")\n"
      ],
      "metadata": {
        "colab": {
          "base_uri": "https://localhost:8080/"
        },
        "id": "sOM2akc3_S-K",
        "outputId": "be695fe0-efe5-446c-f2d7-5d5f52479629"
      },
      "execution_count": null,
      "outputs": [
        {
          "output_type": "stream",
          "name": "stdout",
          "text": [
            "Files and folders inside the nested archive (12): ['im_Parabasal_im_Parabasal', 'im_Superficial-Intermediate_im_Superficial-Intermediate', 'im_Dyskeratotic_im_Dyskeratotic', 'im_Koilocytotic_im_Koilocytotic', 'im_Metaplastic_im_Metaplastic']\n",
            "Files and folders inside the nested archive (12): ['im_Parabasal_im_Parabasal', 'im_Superficial-Intermediate_im_Superficial-Intermediate', 'im_Dyskeratotic_im_Dyskeratotic', 'im_Koilocytotic_im_Koilocytotic', 'im_Metaplastic_im_Metaplastic']\n"
          ]
        }
      ]
    },
    {
      "cell_type": "code",
      "source": [
        "import os\n",
        "import shutil\n",
        "\n",
        "folder_path = \"/content/drive/My Drive/sipakmed_backup\"\n",
        "\n",
        "# Traverse all subdirectories\n",
        "for subfolder in os.listdir(folder_path):\n",
        "    subfolder_path = os.path.join(folder_path, subfolder)\n",
        "\n",
        "    if os.path.isdir(subfolder_path):  # Ensure it's a directory\n",
        "        for file in os.listdir(subfolder_path):\n",
        "            file_path = os.path.join(subfolder_path, file)\n",
        "            new_path = os.path.join(folder_path, file)  # Default move path\n",
        "\n",
        "            # If a file with the same name already exists, rename it\n",
        "            if os.path.exists(new_path):\n",
        "                file_name, file_ext = os.path.splitext(file)\n",
        "                new_file_name = f\"{file_name}_{subfolder}{file_ext}\"  # Append folder name\n",
        "                new_path = os.path.join(folder_path, new_file_name)\n",
        "\n",
        "            # Move the file\n",
        "            shutil.move(file_path, new_path)\n",
        "            print(f\"Moved: {file_path} → {new_path}\")\n",
        "\n",
        "        # Optionally, remove empty subdirectories after moving files\n",
        "        os.rmdir(subfolder_path)\n",
        "        print(f\"Removed empty folder: {subfolder_path}\")\n"
      ],
      "metadata": {
        "colab": {
          "base_uri": "https://localhost:8080/"
        },
        "id": "ThzPoJlHCQBP",
        "outputId": "9b3aaa16-bbc8-4443-97e7-51e7757de0d6"
      },
      "execution_count": null,
      "outputs": [
        {
          "output_type": "stream",
          "name": "stdout",
          "text": [
            "Moved: /content/drive/My Drive/sipakmed_backup/im_Parabasal/im_Parabasal → /content/drive/My Drive/sipakmed_backup/im_Parabasal_im_Parabasal\n",
            "Removed empty folder: /content/drive/My Drive/sipakmed_backup/im_Parabasal\n",
            "Moved: /content/drive/My Drive/sipakmed_backup/im_Superficial-Intermediate/im_Superficial-Intermediate → /content/drive/My Drive/sipakmed_backup/im_Superficial-Intermediate_im_Superficial-Intermediate\n",
            "Removed empty folder: /content/drive/My Drive/sipakmed_backup/im_Superficial-Intermediate\n",
            "Moved: /content/drive/My Drive/sipakmed_backup/im_Dyskeratotic/im_Dyskeratotic → /content/drive/My Drive/sipakmed_backup/im_Dyskeratotic_im_Dyskeratotic\n",
            "Removed empty folder: /content/drive/My Drive/sipakmed_backup/im_Dyskeratotic\n",
            "Moved: /content/drive/My Drive/sipakmed_backup/im_Metaplastic/im_Metaplastic → /content/drive/My Drive/sipakmed_backup/im_Metaplastic_im_Metaplastic\n",
            "Removed empty folder: /content/drive/My Drive/sipakmed_backup/im_Metaplastic\n",
            "Moved: /content/drive/My Drive/sipakmed_backup/im_Koilocytotic/im_Koilocytotic → /content/drive/My Drive/sipakmed_backup/im_Koilocytotic_im_Koilocytotic\n",
            "Removed empty folder: /content/drive/My Drive/sipakmed_backup/im_Koilocytotic\n"
          ]
        }
      ]
    },
    {
      "cell_type": "code",
      "source": [
        "import os\n",
        "\n",
        "folder_path = \"/content/drive/My Drive/fixed_dataset\"\n",
        "total_files = 0\n",
        "\n",
        "# Traverse all subdirectories\n",
        "for subfolder in os.listdir(folder_path):\n",
        "    subfolder_path = os.path.join(folder_path, subfolder)\n",
        "\n",
        "    if os.path.isdir(subfolder_path):  # Ensure it's a directory\n",
        "        file_count = len(os.listdir(subfolder_path))  # Count files in the subfolder\n",
        "        total_files += file_count\n",
        "        print(f\"📂 {subfolder}: {file_count} files\")\n",
        "\n",
        "print(f\"\\n📸 Total number of files (all types): {total_files}\")\n"
      ],
      "metadata": {
        "colab": {
          "base_uri": "https://localhost:8080/"
        },
        "id": "z-2WZEnqJ2_J",
        "outputId": "f9a842d4-42f2-4a3f-dc8d-8ee4d942ee37"
      },
      "execution_count": null,
      "outputs": [
        {
          "output_type": "stream",
          "name": "stdout",
          "text": [
            "📂 im_Superficial-Intermediate: 4286 files\n",
            "📂 im_Koilocytotic: 4382 files\n",
            "📂 im_Dyskeratotic: 4133 files\n",
            "📂 im_Parabasal: 4043 files\n",
            "📂 im_Metaplastic: 4236 files\n",
            "\n",
            "📸 Total number of files (all types): 21080\n"
          ]
        }
      ]
    },
    {
      "cell_type": "code",
      "source": [
        "import os\n",
        "\n",
        "# Define the main folder path\n",
        "folder_path = \"/content/drive/My Drive/sipakmed_backup\"\n",
        "\n",
        "# List only subdirectories (not files)\n",
        "subdirectories = [os.path.join(folder_path, subfolder) for subfolder in os.listdir(folder_path) if os.path.isdir(os.path.join(folder_path, subfolder))]\n",
        "\n",
        "# Print each subdirectory path\n",
        "print(\"📂 Subdirectories in root:\")\n",
        "for subfolder in subdirectories:\n",
        "    print(subfolder)\n"
      ],
      "metadata": {
        "colab": {
          "base_uri": "https://localhost:8080/"
        },
        "id": "8Vrbt-9_Llqf",
        "outputId": "5b61901b-625f-4dbd-da80-6b05da7152ee"
      },
      "execution_count": null,
      "outputs": [
        {
          "output_type": "stream",
          "name": "stdout",
          "text": [
            "📂 Subdirectories in root:\n",
            "/content/drive/My Drive/sipakmed_backup/im_Parabasal\n",
            "/content/drive/My Drive/sipakmed_backup/im_Superficial-Intermediate\n",
            "/content/drive/My Drive/sipakmed_backup/im_Dyskeratotic\n",
            "/content/drive/My Drive/sipakmed_backup/im_Metaplastic\n",
            "/content/drive/My Drive/sipakmed_backup/im_Koilocytotic\n"
          ]
        }
      ]
    },
    {
      "cell_type": "code",
      "source": [
        "import torch\n",
        "import torchvision.transforms as transforms\n",
        "from torchvision import datasets\n",
        "from torch.utils.data import DataLoader\n",
        "\n",
        "# Define image transformations\n",
        "train_transforms = transforms.Compose([\n",
        "    transforms.Resize((224, 224)),  # Resize images to fit model\n",
        "    transforms.RandomRotation(30),\n",
        "    transforms.RandomHorizontalFlip(),\n",
        "    transforms.ToTensor(),\n",
        "    transforms.Normalize(mean=[0.5, 0.5, 0.5], std=[0.5, 0.5, 0.5])\n",
        "])\n",
        "\n",
        "val_test_transforms = transforms.Compose([\n",
        "    transforms.Resize((224, 224)),\n",
        "    transforms.ToTensor(),\n",
        "    transforms.Normalize(mean=[0.5, 0.5, 0.5], std=[0.5, 0.5, 0.5])\n",
        "])\n",
        "\n",
        "# Define paths\n",
        "train_dir = \"/content/drive/My Drive/project/train\"\n",
        "val_dir = \"/content/drive/My Drive/project/val\"\n",
        "test_dir = \"/content/drive/My Drive/project/test\"\n",
        "\n",
        "# Load datasets\n",
        "train_dataset = datasets.ImageFolder(root=train_dir, transform=train_transforms)\n",
        "val_dataset = datasets.ImageFolder(root=val_dir, transform=val_test_transforms)\n",
        "test_dataset = datasets.ImageFolder(root=test_dir, transform=val_test_transforms)\n",
        "\n",
        "# Create DataLoaders\n",
        "BATCH_SIZE = 32\n",
        "\n",
        "train_loader = DataLoader(train_dataset, batch_size=BATCH_SIZE, shuffle=True, num_workers=2)\n",
        "val_loader = DataLoader(val_dataset, batch_size=BATCH_SIZE, shuffle=False, num_workers=2)\n",
        "test_loader = DataLoader(test_dataset, batch_size=BATCH_SIZE, shuffle=False, num_workers=2)\n",
        "\n",
        "# Check class mappings\n",
        "print(\"Class Mapping:\", train_dataset.class_to_idx)  # {'Normal': 0, 'Abnormal': 1}\n"
      ],
      "metadata": {
        "colab": {
          "base_uri": "https://localhost:8080/"
        },
        "id": "uHkaghYbPxbo",
        "outputId": "4c3ec774-a6cf-495d-b8fc-0a92f2cb12f5"
      },
      "execution_count": null,
      "outputs": [
        {
          "output_type": "stream",
          "name": "stdout",
          "text": [
            "Class Mapping: {'Abnormal': 0, 'Normal': 1}\n"
          ]
        }
      ]
    },
    {
      "cell_type": "code",
      "source": [
        "import os\n",
        "\n",
        "output_directory = \"/content/drive/My Drive/project\"\n",
        "\n",
        "for subset in ['train', 'val', 'test']:\n",
        "    for label in ['Normal', 'Abnormal']:\n",
        "        path = os.path.join(output_directory, subset, label)\n",
        "        print(f\"📂 {subset}/{label}: {len(os.listdir(path))} images\")"
      ],
      "metadata": {
        "colab": {
          "base_uri": "https://localhost:8080/"
        },
        "id": "ia7Y_1FrmQbh",
        "outputId": "9bda6d69-e484-457a-d79e-21845a068f24"
      },
      "execution_count": null,
      "outputs": [
        {
          "output_type": "stream",
          "name": "stdout",
          "text": [
            "📂 train/Normal: 1102 images\n",
            "📂 train/Abnormal: 1375 images\n",
            "📂 val/Normal: 562 images\n",
            "📂 val/Abnormal: 564 images\n",
            "📂 test/Normal: 576 images\n",
            "📂 test/Abnormal: 552 images\n"
          ]
        }
      ]
    },
    {
      "cell_type": "code",
      "source": [
        "from sklearn.utils.class_weight import compute_class_weight\n",
        "import numpy as np\n",
        "\n",
        "# Compute class weights\n",
        "class_weights = compute_class_weight(\n",
        "    class_weight=\"balanced\",\n",
        "    classes=np.array([0, 1]),  # 0=Normal, 1=Abnormal\n",
        "    y=[0]*3977 + [1]*5553  # Labels for train set\n",
        ")\n",
        "\n",
        "class_weight_dict = {0: class_weights[0], 1: class_weights[1]}\n",
        "print(\"📊 Class Weights:\", class_weight_dict)\n",
        "\n",
        "# Convert to tensor for PyTorch\n",
        "class_weights_tensor = torch.tensor([class_weight_dict[0], class_weight_dict[1]], dtype=torch.float32).to(device)\n",
        "\n",
        "# Update loss function to include class weights\n",
        "criterion = nn.BCEWithLogitsLoss(pos_weight=class_weights_tensor[1])  # Higher weight for Normal\n"
      ],
      "metadata": {
        "colab": {
          "base_uri": "https://localhost:8080/"
        },
        "id": "AwqyxowSm_Zb",
        "outputId": "a2efd1c3-e6f8-4610-c6fc-eaf7ec218cef"
      },
      "execution_count": null,
      "outputs": [
        {
          "output_type": "stream",
          "name": "stdout",
          "text": [
            "📊 Class Weights: {0: 1.1981393009806387, 1: 0.8580947235728436}\n"
          ]
        }
      ]
    },
    {
      "cell_type": "code",
      "source": [
        "import torch\n",
        "\n",
        "# Define device for PyTorch (use GPU if available, otherwise CPU)\n",
        "device = torch.device(\"cuda\" if torch.cuda.is_available() else \"cpu\")\n",
        "\n",
        "# Convert class weights to tensor\n",
        "class_weights_tensor = torch.tensor([class_weight_dict[0], class_weight_dict[1]], dtype=torch.float32).to(device)\n",
        "\n",
        "print(f\"✅ Class weights tensor created on: {device}\")\n"
      ],
      "metadata": {
        "colab": {
          "base_uri": "https://localhost:8080/"
        },
        "id": "_y3JdbSWnldn",
        "outputId": "7949c21c-3cdb-4caf-96ae-490c5d8be8cb"
      },
      "execution_count": null,
      "outputs": [
        {
          "output_type": "stream",
          "name": "stdout",
          "text": [
            "✅ Class weights tensor created on: cuda\n"
          ]
        }
      ]
    },
    {
      "cell_type": "code",
      "source": [],
      "metadata": {
        "id": "g1nEDvjNnqqC"
      },
      "execution_count": null,
      "outputs": []
    },
    {
      "cell_type": "code",
      "source": [
        "import torch\n",
        "import torch.nn as nn\n",
        "import torch.optim as optim\n",
        "import torchvision.transforms as transforms\n",
        "from torchvision.datasets import ImageFolder\n",
        "from torch.utils.data import DataLoader\n",
        "\n",
        "# Ensure consistent image preprocessing\n",
        "transform = transforms.Compose([\n",
        "    transforms.Resize((224, 224)),\n",
        "    transforms.ToTensor(),\n",
        "    transforms.Normalize(mean=[0.485, 0.456, 0.406], std=[0.229, 0.224, 0.225])\n",
        "])\n",
        "\n",
        "# Define dataset paths\n",
        "train_dir = \"/content/drive/My Drive/project/train\"\n",
        "val_dir = \"/content/drive/My Drive/project/val\"\n",
        "test_dir = \"/content/drive/My Drive/project/test\"\n",
        "\n",
        "# Load datasets with the same transformations\n",
        "train_dataset = ImageFolder(root=train_dir, transform=transform)\n",
        "val_dataset = ImageFolder(root=val_dir, transform=transform)\n",
        "test_dataset = ImageFolder(root=test_dir, transform=transform)\n",
        "\n",
        "# Create DataLoaders\n",
        "train_loader = DataLoader(train_dataset, batch_size=32, shuffle=True, num_workers=2, pin_memory=True)\n",
        "val_loader = DataLoader(val_dataset, batch_size=32, shuffle=False, num_workers=2, pin_memory=True)\n",
        "test_loader = DataLoader(test_dataset, batch_size=32, shuffle=False, num_workers=2, pin_memory=True)\n",
        "\n",
        "print(f\"✅ Dataset Loaded: Train={len(train_dataset)}, Val={len(val_dataset)}, Test={len(test_dataset)}\")\n"
      ],
      "metadata": {
        "colab": {
          "base_uri": "https://localhost:8080/"
        },
        "id": "jwxIk2Mg4GVu",
        "outputId": "a93d5232-9cc5-45c5-ebcd-56fcd6f5f8f8"
      },
      "execution_count": null,
      "outputs": [
        {
          "output_type": "stream",
          "name": "stdout",
          "text": [
            "✅ Dataset Loaded: Train=2477, Val=1126, Test=1128\n"
          ]
        }
      ]
    },
    {
      "cell_type": "code",
      "source": [
        "import torchvision.models as models\n",
        "\n",
        "device = torch.device(\"cuda\" if torch.cuda.is_available() else \"cpu\")\n",
        "\n",
        "# Load EfficientNet (pretrained)\n",
        "model = models.efficientnet_b0(weights=models.EfficientNet_B0_Weights.DEFAULT)\n",
        "\n",
        "# Modify classifier for binary classification\n",
        "num_ftrs = model.classifier[1].in_features\n",
        "model.classifier = nn.Sequential(\n",
        "    nn.Dropout(0.3),  # Use dropout to prevent overfitting\n",
        "    nn.Linear(num_ftrs, 2)\n",
        ")\n",
        "\n",
        "model = model.to(device)\n",
        "print(\"✅ EfficientNet model loaded and modified for binary classification.\")\n"
      ],
      "metadata": {
        "colab": {
          "base_uri": "https://localhost:8080/"
        },
        "id": "wfk_O4KD4esI",
        "outputId": "9becc586-d65f-4290-e828-30fb6be59860"
      },
      "execution_count": null,
      "outputs": [
        {
          "output_type": "stream",
          "name": "stdout",
          "text": [
            "✅ EfficientNet model loaded and modified for binary classification.\n"
          ]
        }
      ]
    },
    {
      "cell_type": "code",
      "source": [
        "# Balance training using class weights (higher weight for underrepresented class)\n",
        "class_weights = torch.tensor([1.0, 2.0]).to(device)\n",
        "criterion = nn.CrossEntropyLoss(weight=class_weights)\n",
        "\n",
        "print(\"✅ Class weights applied to loss function.\")\n"
      ],
      "metadata": {
        "colab": {
          "base_uri": "https://localhost:8080/"
        },
        "id": "DmQ8kQ0m4kok",
        "outputId": "a88162f5-56ce-4242-8bd3-1c8adaf53554"
      },
      "execution_count": null,
      "outputs": [
        {
          "output_type": "stream",
          "name": "stdout",
          "text": [
            "✅ Class weights applied to loss function.\n"
          ]
        }
      ]
    },
    {
      "cell_type": "code",
      "source": [
        "optimizer = optim.AdamW(model.parameters(), lr=1e-4, weight_decay=1e-3)\n",
        "\n",
        "# ReduceLROnPlateau to adjust LR when validation loss stops improving\n",
        "scheduler = optim.lr_scheduler.ReduceLROnPlateau(optimizer, mode='min', factor=0.5, patience=3)\n",
        "\n",
        "print(\"✅ Optimizer and scheduler set up.\")\n"
      ],
      "metadata": {
        "colab": {
          "base_uri": "https://localhost:8080/"
        },
        "id": "e9DVGqZc4hu3",
        "outputId": "56d2db96-58bf-4f93-ffec-bb5c11e356c6"
      },
      "execution_count": null,
      "outputs": [
        {
          "output_type": "stream",
          "name": "stdout",
          "text": [
            "✅ Optimizer and scheduler set up.\n"
          ]
        }
      ]
    },
    {
      "cell_type": "code",
      "source": [
        "import time\n",
        "from tqdm import tqdm\n",
        "\n",
        "def train_model(model, train_loader, val_loader, criterion, optimizer, scheduler, num_epochs=10):\n",
        "    model.train()\n",
        "    for epoch in range(num_epochs):\n",
        "        start_time = time.time()\n",
        "        running_loss = 0.0\n",
        "        correct, total = 0, 0\n",
        "\n",
        "        # Training loop\n",
        "        for inputs, labels in tqdm(train_loader, desc=f\"Epoch {epoch+1}/{num_epochs}\"):\n",
        "            inputs, labels = inputs.to(device), labels.to(device)\n",
        "\n",
        "            optimizer.zero_grad()\n",
        "            outputs = model(inputs)\n",
        "            loss = criterion(outputs, labels)\n",
        "            loss.backward()\n",
        "            optimizer.step()\n",
        "\n",
        "            running_loss += loss.item()\n",
        "            _, predicted = torch.max(outputs, 1)\n",
        "            correct += (predicted == labels).sum().item()\n",
        "            total += labels.size(0)\n",
        "\n",
        "        train_acc = 100 * correct / total\n",
        "        avg_loss = running_loss / len(train_loader)\n",
        "\n",
        "        # Validation loop\n",
        "        model.eval()\n",
        "        val_loss, val_correct, val_total = 0.0, 0, 0\n",
        "        with torch.no_grad():\n",
        "            for inputs, labels in val_loader:\n",
        "                inputs, labels = inputs.to(device), labels.to(device)\n",
        "                outputs = model(inputs)\n",
        "                val_loss += criterion(outputs, labels).item()\n",
        "                _, predicted = torch.max(outputs, 1)\n",
        "                val_correct += (predicted == labels).sum().item()\n",
        "                val_total += labels.size(0)\n",
        "\n",
        "        val_acc = 100 * val_correct / val_total\n",
        "        avg_val_loss = val_loss / len(val_loader)\n",
        "        scheduler.step(avg_val_loss)\n",
        "\n",
        "        print(f\"📊 Epoch {epoch+1}/{num_epochs} - Train Loss: {avg_loss:.4f}, Train Acc: {train_acc:.2f}% | Val Loss: {avg_val_loss:.4f}, Val Acc: {val_acc:.2f}% | Time: {time.time() - start_time:.2f}s\")\n",
        "\n",
        "    print(\"✅ Training Complete!\")\n",
        "\n",
        "# Train EfficientNet\n",
        "train_model(model, train_loader, val_loader, criterion, optimizer, scheduler, num_epochs=10)\n"
      ],
      "metadata": {
        "colab": {
          "base_uri": "https://localhost:8080/"
        },
        "id": "tAnTwF7K4vQC",
        "outputId": "f1b616fa-1965-4de4-e29e-8b8c70480c66"
      },
      "execution_count": null,
      "outputs": [
        {
          "output_type": "stream",
          "name": "stderr",
          "text": [
            "Epoch 1/10: 100%|██████████| 78/78 [07:31<00:00,  5.79s/it]\n"
          ]
        },
        {
          "output_type": "stream",
          "name": "stdout",
          "text": [
            "📊 Epoch 1/10 - Train Loss: 0.3286, Train Acc: 86.76% | Val Loss: 0.1679, Val Acc: 93.96% | Time: 654.28s\n"
          ]
        },
        {
          "output_type": "stream",
          "name": "stderr",
          "text": [
            "Epoch 2/10: 100%|██████████| 78/78 [00:30<00:00,  2.58it/s]\n"
          ]
        },
        {
          "output_type": "stream",
          "name": "stdout",
          "text": [
            "📊 Epoch 2/10 - Train Loss: 0.1030, Train Acc: 95.88% | Val Loss: 0.1078, Val Acc: 96.27% | Time: 42.95s\n"
          ]
        },
        {
          "output_type": "stream",
          "name": "stderr",
          "text": [
            "Epoch 3/10: 100%|██████████| 78/78 [00:27<00:00,  2.81it/s]\n"
          ]
        },
        {
          "output_type": "stream",
          "name": "stdout",
          "text": [
            "📊 Epoch 3/10 - Train Loss: 0.0473, Train Acc: 98.43% | Val Loss: 0.1205, Val Acc: 95.91% | Time: 37.53s\n"
          ]
        },
        {
          "output_type": "stream",
          "name": "stderr",
          "text": [
            "Epoch 4/10: 100%|██████████| 78/78 [00:25<00:00,  3.05it/s]\n"
          ]
        },
        {
          "output_type": "stream",
          "name": "stdout",
          "text": [
            "📊 Epoch 4/10 - Train Loss: 0.0165, Train Acc: 99.52% | Val Loss: 0.1214, Val Acc: 96.18% | Time: 36.08s\n"
          ]
        },
        {
          "output_type": "stream",
          "name": "stderr",
          "text": [
            "Epoch 5/10: 100%|██████████| 78/78 [00:25<00:00,  3.01it/s]\n"
          ]
        },
        {
          "output_type": "stream",
          "name": "stdout",
          "text": [
            "📊 Epoch 5/10 - Train Loss: 0.0211, Train Acc: 99.39% | Val Loss: 0.1202, Val Acc: 96.98% | Time: 36.66s\n"
          ]
        },
        {
          "output_type": "stream",
          "name": "stderr",
          "text": [
            "Epoch 6/10: 100%|██████████| 78/78 [00:26<00:00,  2.94it/s]\n"
          ]
        },
        {
          "output_type": "stream",
          "name": "stdout",
          "text": [
            "📊 Epoch 6/10 - Train Loss: 0.0025, Train Acc: 99.88% | Val Loss: 0.1288, Val Acc: 97.25% | Time: 36.82s\n"
          ]
        },
        {
          "output_type": "stream",
          "name": "stderr",
          "text": [
            "Epoch 7/10: 100%|██████████| 78/78 [00:25<00:00,  3.07it/s]\n"
          ]
        },
        {
          "output_type": "stream",
          "name": "stdout",
          "text": [
            "📊 Epoch 7/10 - Train Loss: 0.0008, Train Acc: 100.00% | Val Loss: 0.1420, Val Acc: 97.07% | Time: 35.63s\n"
          ]
        },
        {
          "output_type": "stream",
          "name": "stderr",
          "text": [
            "Epoch 8/10: 100%|██████████| 78/78 [00:25<00:00,  3.02it/s]\n"
          ]
        },
        {
          "output_type": "stream",
          "name": "stdout",
          "text": [
            "📊 Epoch 8/10 - Train Loss: 0.0003, Train Acc: 100.00% | Val Loss: 0.1546, Val Acc: 97.07% | Time: 36.61s\n"
          ]
        },
        {
          "output_type": "stream",
          "name": "stderr",
          "text": [
            "Epoch 9/10: 100%|██████████| 78/78 [00:26<00:00,  2.99it/s]\n"
          ]
        },
        {
          "output_type": "stream",
          "name": "stdout",
          "text": [
            "📊 Epoch 9/10 - Train Loss: 0.0002, Train Acc: 100.00% | Val Loss: 0.1624, Val Acc: 97.07% | Time: 36.02s\n"
          ]
        },
        {
          "output_type": "stream",
          "name": "stderr",
          "text": [
            "Epoch 10/10: 100%|██████████| 78/78 [00:25<00:00,  3.01it/s]\n"
          ]
        },
        {
          "output_type": "stream",
          "name": "stdout",
          "text": [
            "📊 Epoch 10/10 - Train Loss: 0.0001, Train Acc: 100.00% | Val Loss: 0.1655, Val Acc: 97.07% | Time: 37.16s\n",
            "✅ Training Complete!\n"
          ]
        }
      ]
    },
    {
      "cell_type": "code",
      "source": [
        "import numpy as np\n",
        "import seaborn as sns\n",
        "import matplotlib.pyplot as plt\n",
        "import torch\n",
        "from sklearn.metrics import confusion_matrix, classification_report, roc_auc_score\n",
        "\n",
        "def evaluate_metrics(model, test_loader, model_name=\"Model\"):\n",
        "    model.eval()\n",
        "    y_true, y_scores, y_pred = [], [], []\n",
        "\n",
        "    with torch.no_grad():\n",
        "        for images, labels in test_loader:\n",
        "            images, labels = images.to(device), labels.to(device)\n",
        "            outputs = model(images)\n",
        "\n",
        "            probs = torch.softmax(outputs, dim=1)[:, 1].cpu().numpy()\n",
        "            preds = torch.argmax(outputs, dim=1).cpu().numpy()\n",
        "\n",
        "            y_true.extend(labels.cpu().numpy())\n",
        "            y_scores.extend(probs)\n",
        "            y_pred.extend(preds)\n",
        "\n",
        "    y_true, y_scores, y_pred = np.array(y_true), np.array(y_scores), np.array(y_pred)\n",
        "    cm = confusion_matrix(y_true, y_pred)\n",
        "    tn, fp, fn, tp = cm.ravel()\n",
        "\n",
        "    sensitivity = tp / (tp + fn)\n",
        "    specificity = tn / (tn + fp)\n",
        "    auc = roc_auc_score(y_true, y_scores)\n",
        "\n",
        "    print(f\"✅ {model_name} Evaluation Results:\")\n",
        "    print(f\"🔹 AUROC Score: {auc:.4f}\")\n",
        "    print(f\"🔹 Sensitivity (Recall for Abnormal Class): {sensitivity:.4f}\")\n",
        "    print(f\"🔹 Specificity (True Negative Rate for Normal Class): {specificity:.4f}\")\n",
        "    print(\"\\n📊 Classification Report:\\n\", classification_report(y_true, y_pred, target_names=[\"Normal\", \"Abnormal\"]))\n",
        "\n",
        "    # Plot Confusion Matrix with Model Name\n",
        "    plt.figure(figsize=(6,5))\n",
        "    sns.heatmap(cm, annot=True, fmt=\"d\", cmap=\"Blues\", xticklabels=[\"Normal\", \"Abnormal\"], yticklabels=[\"Normal\", \"Abnormal\"])\n",
        "    plt.xlabel(\"Predicted Label\")\n",
        "    plt.ylabel(\"True Label\")\n",
        "    plt.title(f\"Confusion Matrix for {model_name}\")\n",
        "    plt.show()\n",
        "\n",
        "# Evaluate ResNet-50\n",
        "evaluate_metrics(resnet50, test_loader, model_name=\"ResNet-50\")\n",
        "\n",
        "# Evaluate MobileNetV3\n",
        "evaluate_metrics(mobilenet, test_loader, model_name=\"MobileNetV3\")\n"
      ],
      "metadata": {
        "colab": {
          "base_uri": "https://localhost:8080/",
          "height": 1000
        },
        "id": "KpYlCLa-DA5k",
        "outputId": "1a7cbd8b-4e50-4831-bf80-4e4faaf9c7c6"
      },
      "execution_count": null,
      "outputs": [
        {
          "output_type": "stream",
          "name": "stdout",
          "text": [
            "✅ ResNet-50 Evaluation Results:\n",
            "🔹 AUROC Score: 0.9933\n",
            "🔹 Sensitivity (Recall for Abnormal Class): 0.9601\n",
            "🔹 Specificity (True Negative Rate for Normal Class): 0.9710\n",
            "\n",
            "📊 Classification Report:\n",
            "               precision    recall  f1-score   support\n",
            "\n",
            "      Normal       0.96      0.97      0.96       552\n",
            "    Abnormal       0.97      0.96      0.97       576\n",
            "\n",
            "    accuracy                           0.97      1128\n",
            "   macro avg       0.97      0.97      0.97      1128\n",
            "weighted avg       0.97      0.97      0.97      1128\n",
            "\n"
          ]
        },
        {
          "output_type": "display_data",
          "data": {
            "text/plain": [
              "<Figure size 600x500 with 2 Axes>"
            ],
            "image/png": "[encoded data removed]"
          },
          "metadata": {}
        },
        {
          "output_type": "stream",
          "name": "stdout",
          "text": [
            "✅ MobileNetV3 Evaluation Results:\n",
            "🔹 AUROC Score: 0.9968\n",
            "🔹 Sensitivity (Recall for Abnormal Class): 0.9549\n",
            "🔹 Specificity (True Negative Rate for Normal Class): 0.9909\n",
            "\n",
            "📊 Classification Report:\n",
            "               precision    recall  f1-score   support\n",
            "\n",
            "      Normal       0.95      0.99      0.97       552\n",
            "    Abnormal       0.99      0.95      0.97       576\n",
            "\n",
            "    accuracy                           0.97      1128\n",
            "   macro avg       0.97      0.97      0.97      1128\n",
            "weighted avg       0.97      0.97      0.97      1128\n",
            "\n"
          ]
        },
        {
          "output_type": "display_data",
          "data": {
            "text/plain": [
              "<Figure size 600x500 with 2 Axes>"
            ],
            "image/png": "[encoded data removed]"
          },
          "metadata": {}
        }
      ]
    },
    {
      "cell_type": "code",
      "source": [
        "import torch\n",
        "import torch.nn as nn\n",
        "import torch.optim as optim\n",
        "import torchvision.transforms as transforms\n",
        "from torchvision.datasets import ImageFolder\n",
        "from torch.utils.data import DataLoader\n",
        "\n",
        "# Ensure consistent image preprocessing\n",
        "transform = transforms.Compose([\n",
        "    transforms.Resize((224, 224)),\n",
        "    transforms.ToTensor(),\n",
        "    transforms.Normalize(mean=[0.485, 0.456, 0.406], std=[0.229, 0.224, 0.225])\n",
        "])\n",
        "\n",
        "# Define dataset paths\n",
        "train_dir = \"/content/drive/My Drive/project/train\"\n",
        "val_dir = \"/content/drive/My Drive/project/val\"\n",
        "test_dir = \"/content/drive/My Drive/project/test\"\n",
        "\n",
        "# Load datasets with the same transformations\n",
        "train_dataset = ImageFolder(root=train_dir, transform=transform)\n",
        "val_dataset = ImageFolder(root=val_dir, transform=transform)\n",
        "test_dataset = ImageFolder(root=test_dir, transform=transform)\n",
        "\n",
        "# Create DataLoaders\n",
        "train_loader = DataLoader(train_dataset, batch_size=32, shuffle=True, num_workers=2, pin_memory=True)\n",
        "val_loader = DataLoader(val_dataset, batch_size=32, shuffle=False, num_workers=2, pin_memory=True)\n",
        "test_loader = DataLoader(test_dataset, batch_size=32, shuffle=False, num_workers=2, pin_memory=True)\n",
        "\n",
        "print(f\"✅ Dataset Loaded: Train={len(train_dataset)}, Val={len(val_dataset)}, Test={len(test_dataset)}\")\n"
      ],
      "metadata": {
        "colab": {
          "base_uri": "https://localhost:8080/"
        },
        "id": "QPlDlCqzEAbR",
        "outputId": "280797fb-e71f-42f3-8636-d44617415efc"
      },
      "execution_count": null,
      "outputs": [
        {
          "output_type": "stream",
          "name": "stdout",
          "text": [
            "✅ Dataset Loaded: Train=2477, Val=1126, Test=1128\n"
          ]
        }
      ]
    },
    {
      "cell_type": "code",
      "source": [
        "import torchvision.models as models\n",
        "\n",
        "device = torch.device(\"cuda\" if torch.cuda.is_available() else \"cpu\")\n",
        "\n",
        "# Load EfficientNet (pretrained)\n",
        "model = models.efficientnet_b0(weights=models.EfficientNet_B0_Weights.DEFAULT)\n",
        "\n",
        "# Modify classifier for binary classification\n",
        "num_ftrs = model.classifier[1].in_features\n",
        "model.classifier = nn.Sequential(\n",
        "    nn.Dropout(0.3),  # Use dropout to prevent overfitting\n",
        "    nn.Linear(num_ftrs, 2)\n",
        ")\n",
        "\n",
        "model = model.to(device)\n",
        "print(\"✅ EfficientNet model loaded and modified for binary classification.\")\n"
      ],
      "metadata": {
        "colab": {
          "base_uri": "https://localhost:8080/"
        },
        "id": "7G5Hchs0EKft",
        "outputId": "24b29f2c-e238-413e-d1fc-388d0264a095"
      },
      "execution_count": null,
      "outputs": [
        {
          "output_type": "stream",
          "name": "stdout",
          "text": [
            "✅ EfficientNet model loaded and modified for binary classification.\n"
          ]
        }
      ]
    },
    {
      "cell_type": "code",
      "source": [
        "# Balance training using class weights (higher weight for underrepresented class)\n",
        "class_weights = torch.tensor([1.0, 2.0]).to(device)\n",
        "criterion = nn.CrossEntropyLoss(weight=class_weights)\n",
        "\n",
        "print(\"✅ Class weights applied to loss function.\")\n"
      ],
      "metadata": {
        "colab": {
          "base_uri": "https://localhost:8080/"
        },
        "id": "y6iqulleEQCM",
        "outputId": "28629c3f-852f-4fe4-911d-da0fc0c74601"
      },
      "execution_count": null,
      "outputs": [
        {
          "output_type": "stream",
          "name": "stdout",
          "text": [
            "✅ Class weights applied to loss function.\n"
          ]
        }
      ]
    },
    {
      "cell_type": "code",
      "source": [
        "optimizer = optim.AdamW(model.parameters(), lr=1e-4, weight_decay=1e-3)\n",
        "\n",
        "# ReduceLROnPlateau to adjust LR when validation loss stops improving\n",
        "scheduler = optim.lr_scheduler.ReduceLROnPlateau(optimizer, mode='min', factor=0.5, patience=3)\n",
        "\n",
        "print(\"✅ Optimizer and scheduler set up.\")\n"
      ],
      "metadata": {
        "colab": {
          "base_uri": "https://localhost:8080/"
        },
        "id": "yemkkF5XEUZW",
        "outputId": "095f16bb-8378-40af-de4c-39097511d55c"
      },
      "execution_count": null,
      "outputs": [
        {
          "output_type": "stream",
          "name": "stdout",
          "text": [
            "✅ Optimizer and scheduler set up.\n"
          ]
        }
      ]
    },
    {
      "cell_type": "code",
      "source": [
        "import time\n",
        "from tqdm import tqdm\n",
        "\n",
        "def train_model(model, train_loader, val_loader, criterion, optimizer, scheduler, num_epochs=10):\n",
        "    model.train()\n",
        "    for epoch in range(num_epochs):\n",
        "        start_time = time.time()\n",
        "        running_loss = 0.0\n",
        "        correct, total = 0, 0\n",
        "\n",
        "        # Training loop\n",
        "        for inputs, labels in tqdm(train_loader, desc=f\"Epoch {epoch+1}/{num_epochs}\"):\n",
        "            inputs, labels = inputs.to(device), labels.to(device)\n",
        "\n",
        "            optimizer.zero_grad()\n",
        "            outputs = model(inputs)\n",
        "            loss = criterion(outputs, labels)\n",
        "            loss.backward()\n",
        "            optimizer.step()\n",
        "\n",
        "            running_loss += loss.item()\n",
        "            _, predicted = torch.max(outputs, 1)\n",
        "            correct += (predicted == labels).sum().item()\n",
        "            total += labels.size(0)\n",
        "\n",
        "        train_acc = 100 * correct / total\n",
        "        avg_loss = running_loss / len(train_loader)\n",
        "\n",
        "        # Validation loop\n",
        "        model.eval()\n",
        "        val_loss, val_correct, val_total = 0.0, 0, 0\n",
        "        with torch.no_grad():\n",
        "            for inputs, labels in val_loader:\n",
        "                inputs, labels = inputs.to(device), labels.to(device)\n",
        "                outputs = model(inputs)\n",
        "                val_loss += criterion(outputs, labels).item()\n",
        "                _, predicted = torch.max(outputs, 1)\n",
        "                val_correct += (predicted == labels).sum().item()\n",
        "                val_total += labels.size(0)\n",
        "\n",
        "        val_acc = 100 * val_correct / val_total\n",
        "        avg_val_loss = val_loss / len(val_loader)\n",
        "        scheduler.step(avg_val_loss)\n",
        "\n",
        "        print(f\"📊 Epoch {epoch+1}/{num_epochs} - Train Loss: {avg_loss:.4f}, Train Acc: {train_acc:.2f}% | Val Loss: {avg_val_loss:.4f}, Val Acc: {val_acc:.2f}% | Time: {time.time() - start_time:.2f}s\")\n",
        "\n",
        "    print(\"✅ Training Complete!\")\n",
        "\n",
        "# Train EfficientNet\n",
        "train_model(model, train_loader, val_loader, criterion, optimizer, scheduler, num_epochs=10)\n"
      ],
      "metadata": {
        "colab": {
          "base_uri": "https://localhost:8080/"
        },
        "id": "3JUlXdoDEZs2",
        "outputId": "5185d673-0dc0-4ae8-e438-308ac4de684e"
      },
      "execution_count": null,
      "outputs": [
        {
          "output_type": "stream",
          "name": "stderr",
          "text": [
            "Epoch 1/10: 100%|██████████| 78/78 [00:37<00:00,  2.06it/s]\n"
          ]
        },
        {
          "output_type": "stream",
          "name": "stdout",
          "text": [
            "📊 Epoch 1/10 - Train Loss: 0.3314, Train Acc: 86.23% | Val Loss: 0.1466, Val Acc: 94.94% | Time: 47.62s\n"
          ]
        },
        {
          "output_type": "stream",
          "name": "stderr",
          "text": [
            "Epoch 2/10: 100%|██████████| 78/78 [00:26<00:00,  2.94it/s]\n"
          ]
        },
        {
          "output_type": "stream",
          "name": "stdout",
          "text": [
            "📊 Epoch 2/10 - Train Loss: 0.1019, Train Acc: 96.21% | Val Loss: 0.1147, Val Acc: 95.56% | Time: 37.34s\n"
          ]
        },
        {
          "output_type": "stream",
          "name": "stderr",
          "text": [
            "Epoch 3/10: 100%|██████████| 78/78 [00:25<00:00,  3.02it/s]\n"
          ]
        },
        {
          "output_type": "stream",
          "name": "stdout",
          "text": [
            "📊 Epoch 3/10 - Train Loss: 0.0416, Train Acc: 98.43% | Val Loss: 0.1373, Val Acc: 95.65% | Time: 36.61s\n"
          ]
        },
        {
          "output_type": "stream",
          "name": "stderr",
          "text": [
            "Epoch 4/10: 100%|██████████| 78/78 [00:25<00:00,  3.09it/s]\n"
          ]
        },
        {
          "output_type": "stream",
          "name": "stdout",
          "text": [
            "📊 Epoch 4/10 - Train Loss: 0.0294, Train Acc: 98.99% | Val Loss: 0.1448, Val Acc: 94.32% | Time: 34.82s\n"
          ]
        },
        {
          "output_type": "stream",
          "name": "stderr",
          "text": [
            "Epoch 5/10: 100%|██████████| 78/78 [00:26<00:00,  2.95it/s]\n"
          ]
        },
        {
          "output_type": "stream",
          "name": "stdout",
          "text": [
            "📊 Epoch 5/10 - Train Loss: 0.0136, Train Acc: 99.56% | Val Loss: 0.1040, Val Acc: 97.25% | Time: 37.16s\n"
          ]
        },
        {
          "output_type": "stream",
          "name": "stderr",
          "text": [
            "Epoch 6/10: 100%|██████████| 78/78 [00:25<00:00,  3.00it/s]\n"
          ]
        },
        {
          "output_type": "stream",
          "name": "stdout",
          "text": [
            "📊 Epoch 6/10 - Train Loss: 0.0008, Train Acc: 100.00% | Val Loss: 0.1440, Val Acc: 96.27% | Time: 36.82s\n"
          ]
        },
        {
          "output_type": "stream",
          "name": "stderr",
          "text": [
            "Epoch 7/10: 100%|██████████| 78/78 [00:25<00:00,  3.08it/s]\n"
          ]
        },
        {
          "output_type": "stream",
          "name": "stdout",
          "text": [
            "📊 Epoch 7/10 - Train Loss: 0.0001, Train Acc: 100.00% | Val Loss: 0.1401, Val Acc: 96.54% | Time: 35.07s\n"
          ]
        },
        {
          "output_type": "stream",
          "name": "stderr",
          "text": [
            "Epoch 8/10: 100%|██████████| 78/78 [00:26<00:00,  2.96it/s]\n"
          ]
        },
        {
          "output_type": "stream",
          "name": "stdout",
          "text": [
            "📊 Epoch 8/10 - Train Loss: 0.0001, Train Acc: 100.00% | Val Loss: 0.1538, Val Acc: 96.80% | Time: 37.02s\n"
          ]
        },
        {
          "output_type": "stream",
          "name": "stderr",
          "text": [
            "Epoch 9/10: 100%|██████████| 78/78 [00:25<00:00,  3.02it/s]\n"
          ]
        },
        {
          "output_type": "stream",
          "name": "stdout",
          "text": [
            "📊 Epoch 9/10 - Train Loss: 0.0000, Train Acc: 100.00% | Val Loss: 0.1584, Val Acc: 96.89% | Time: 36.28s\n"
          ]
        },
        {
          "output_type": "stream",
          "name": "stderr",
          "text": [
            "Epoch 10/10: 100%|██████████| 78/78 [00:25<00:00,  3.01it/s]\n"
          ]
        },
        {
          "output_type": "stream",
          "name": "stdout",
          "text": [
            "📊 Epoch 10/10 - Train Loss: 0.0000, Train Acc: 100.00% | Val Loss: 0.1597, Val Acc: 96.89% | Time: 35.80s\n",
            "✅ Training Complete!\n"
          ]
        }
      ]
    },
    {
      "cell_type": "code",
      "source": [
        "import numpy as np\n",
        "import seaborn as sns\n",
        "import matplotlib.pyplot as plt\n",
        "from sklearn.metrics import confusion_matrix, classification_report, roc_auc_score\n",
        "\n",
        "def evaluate_metrics(model, test_loader):\n",
        "    model.eval()\n",
        "    y_true, y_scores, y_pred = [], [], []\n",
        "\n",
        "    with torch.no_grad():\n",
        "        for images, labels in test_loader:\n",
        "            images, labels = images.to(device), labels.to(device)\n",
        "            outputs = model(images)\n",
        "\n",
        "            probs = torch.softmax(outputs, dim=1)[:, 1].cpu().numpy()\n",
        "            preds = torch.argmax(outputs, dim=1).cpu().numpy()\n",
        "\n",
        "            y_true.extend(labels.cpu().numpy())\n",
        "            y_scores.extend(probs)\n",
        "            y_pred.extend(preds)\n",
        "\n",
        "    y_true, y_scores, y_pred = np.array(y_true), np.array(y_scores), np.array(y_pred)\n",
        "    cm = confusion_matrix(y_true, y_pred)\n",
        "    tn, fp, fn, tp = cm.ravel()\n",
        "\n",
        "    sensitivity = tp / (tp + fn)\n",
        "    specificity = tn / (tn + fp)\n",
        "    auc = roc_auc_score(y_true, y_scores)\n",
        "\n",
        "    print(f\"✅ AUROC Score: {auc:.4f}\")\n",
        "    print(f\"✅ Sensitivity (Recall for Abnormal Class): {sensitivity:.4f}\")\n",
        "    print(f\"✅ Specificity (True Negative Rate for Normal Class): {specificity:.4f}\")\n",
        "    print(\"\\n📊 Classification Report:\\n\", classification_report(y_true, y_pred, target_names=[\"Normal\", \"Abnormal\"]))\n",
        "\n",
        "    plt.figure(figsize=(6,5))\n",
        "    sns.heatmap(cm, annot=True, fmt=\"d\", cmap=\"Blues\", xticklabels=[\"Normal\", \"Abnormal\"], yticklabels=[\"Normal\", \"Abnormal\"])\n",
        "    plt.xlabel(\"Predicted Label\")\n",
        "    plt.ylabel(\"True Label\")\n",
        "    plt.title(\"Confusion Matrix for EfficientNet\")\n",
        "    plt.show()\n",
        "\n",
        "# Run Evaluation\n",
        "evaluate_metrics(model, test_loader)\n"
      ],
      "metadata": {
        "colab": {
          "base_uri": "https://localhost:8080/",
          "height": 730
        },
        "id": "y9TcvbiwGH2V",
        "outputId": "99c656ec-6632-43d8-b25f-6a8622fa60c2"
      },
      "execution_count": null,
      "outputs": [
        {
          "output_type": "stream",
          "name": "stdout",
          "text": [
            "✅ AUROC Score: 0.9939\n",
            "✅ Sensitivity (Recall for Abnormal Class): 0.9427\n",
            "✅ Specificity (True Negative Rate for Normal Class): 0.9909\n",
            "\n",
            "📊 Classification Report:\n",
            "               precision    recall  f1-score   support\n",
            "\n",
            "      Normal       0.94      0.99      0.97       552\n",
            "    Abnormal       0.99      0.94      0.97       576\n",
            "\n",
            "    accuracy                           0.97      1128\n",
            "   macro avg       0.97      0.97      0.97      1128\n",
            "weighted avg       0.97      0.97      0.97      1128\n",
            "\n"
          ]
        },
        {
          "output_type": "display_data",
          "data": {
            "text/plain": [
              "<Figure size 600x500 with 2 Axes>"
            ],
            "image/png": "[encoded data removed]"
          },
          "metadata": {}
        }
      ]
    },
    {
      "cell_type": "code",
      "source": [
        "import torch\n",
        "import torchvision.transforms as transforms\n",
        "from torchvision.datasets import ImageFolder\n",
        "from torch.utils.data import DataLoader\n",
        "\n",
        "# Define dataset paths\n",
        "train_dir = \"/content/drive/My Drive/project/train\"\n",
        "val_dir = \"/content/drive/My Drive/project/val\"\n",
        "test_dir = \"/content/drive/My Drive/project/test\"\n",
        "\n",
        "# Ensure consistent image preprocessing\n",
        "transform = transforms.Compose([\n",
        "    transforms.Resize((224, 224)),\n",
        "    transforms.ToTensor(),\n",
        "    transforms.Normalize(mean=[0.485, 0.456, 0.406], std=[0.229, 0.224, 0.225])\n",
        "])\n",
        "\n",
        "# Load datasets\n",
        "train_dataset = ImageFolder(root=train_dir, transform=transform)\n",
        "val_dataset = ImageFolder(root=val_dir, transform=transform)\n",
        "test_dataset = ImageFolder(root=test_dir, transform=transform)\n",
        "\n",
        "# Create DataLoaders\n",
        "train_loader = DataLoader(train_dataset, batch_size=32, shuffle=True, num_workers=2, pin_memory=True)\n",
        "val_loader = DataLoader(val_dataset, batch_size=32, shuffle=False, num_workers=2, pin_memory=True)\n",
        "test_loader = DataLoader(test_dataset, batch_size=32, shuffle=False, num_workers=2, pin_memory=True)\n",
        "\n",
        "print(f\"✅ Dataset Loaded: Train={len(train_dataset)}, Val={len(val_dataset)}, Test={len(test_dataset)}\")\n"
      ],
      "metadata": {
        "colab": {
          "base_uri": "https://localhost:8080/"
        },
        "id": "E_EDy6dbHfIf",
        "outputId": "6efe9ebb-443f-472b-c7c2-8f77d4e71d81"
      },
      "execution_count": null,
      "outputs": [
        {
          "output_type": "stream",
          "name": "stdout",
          "text": [
            "✅ Dataset Loaded: Train=2477, Val=1126, Test=1128\n"
          ]
        }
      ]
    },
    {
      "cell_type": "code",
      "source": [
        "import torchvision.models as models\n",
        "import torch.nn as nn\n",
        "\n",
        "device = torch.device(\"cuda\" if torch.cuda.is_available() else \"cpu\")\n",
        "\n",
        "# Load Pretrained DenseNet-121\n",
        "densenet = models.densenet121(weights=models.DenseNet121_Weights.DEFAULT)\n",
        "\n",
        "# Modify classifier for binary classification\n",
        "num_ftrs = densenet.classifier.in_features\n",
        "densenet.classifier = nn.Sequential(\n",
        "    nn.Dropout(0.3),  # Prevent overfitting\n",
        "    nn.Linear(num_ftrs, 2)\n",
        ")\n",
        "densenet = densenet.to(device)\n",
        "\n",
        "print(\"✅ DenseNet-121 model loaded and modified for binary classification.\")\n"
      ],
      "metadata": {
        "colab": {
          "base_uri": "https://localhost:8080/"
        },
        "id": "yeBU-0e_HjHh",
        "outputId": "5cfe28e5-3027-49db-a709-ade536cb444a"
      },
      "execution_count": null,
      "outputs": [
        {
          "output_type": "stream",
          "name": "stderr",
          "text": [
            "Downloading: \"https://download.pytorch.org/models/densenet121-a639ec97.pth\" to /root/.cache/torch/hub/checkpoints/densenet121-a639ec97.pth\n",
            "100%|██████████| 30.8M/30.8M [00:00<00:00, 158MB/s]"
          ]
        },
        {
          "output_type": "stream",
          "name": "stdout",
          "text": [
            "✅ DenseNet-121 model loaded and modified for binary classification.\n"
          ]
        },
        {
          "output_type": "stream",
          "name": "stderr",
          "text": [
            "\n"
          ]
        }
      ]
    },
    {
      "cell_type": "code",
      "source": [
        "# Load Pretrained AlexNet\n",
        "alexnet = models.alexnet(weights=models.AlexNet_Weights.DEFAULT)\n",
        "\n",
        "# Modify classifier for binary classification\n",
        "num_ftrs = alexnet.classifier[6].in_features\n",
        "alexnet.classifier[6] = nn.Linear(num_ftrs, 2)\n",
        "alexnet = alexnet.to(device)\n",
        "\n",
        "print(\"✅ AlexNet model loaded and modified for binary classification.\")\n"
      ],
      "metadata": {
        "colab": {
          "base_uri": "https://localhost:8080/"
        },
        "id": "_JcAdLJbH3fK",
        "outputId": "1fe783e6-743d-4912-a68e-6b70d9221c27"
      },
      "execution_count": null,
      "outputs": [
        {
          "output_type": "stream",
          "name": "stderr",
          "text": [
            "Downloading: \"https://download.pytorch.org/models/alexnet-owt-7be5be79.pth\" to /root/.cache/torch/hub/checkpoints/alexnet-owt-7be5be79.pth\n",
            "100%|██████████| 233M/233M [00:01<00:00, 165MB/s]\n"
          ]
        },
        {
          "output_type": "stream",
          "name": "stdout",
          "text": [
            "✅ AlexNet model loaded and modified for binary classification.\n"
          ]
        }
      ]
    },
    {
      "cell_type": "code",
      "source": [
        "# Balance training using class weights (higher weight for underrepresented class)\n",
        "class_weights = torch.tensor([1.0, 2.0]).to(device)\n",
        "criterion = nn.CrossEntropyLoss(weight=class_weights)\n",
        "\n",
        "print(\"✅ Class weights applied to loss function.\")\n"
      ],
      "metadata": {
        "colab": {
          "base_uri": "https://localhost:8080/"
        },
        "id": "hh5PGYTWH7WZ",
        "outputId": "e18b3b20-ffbf-47ff-9116-6f05669b11c4"
      },
      "execution_count": null,
      "outputs": [
        {
          "output_type": "stream",
          "name": "stdout",
          "text": [
            "✅ Class weights applied to loss function.\n"
          ]
        }
      ]
    },
    {
      "cell_type": "code",
      "source": [
        "optimizer_densenet = torch.optim.AdamW(densenet.parameters(), lr=1e-4, weight_decay=1e-3)\n",
        "optimizer_alexnet = torch.optim.AdamW(alexnet.parameters(), lr=1e-4, weight_decay=1e-3)\n",
        "\n",
        "scheduler_densenet = torch.optim.lr_scheduler.ReduceLROnPlateau(optimizer_densenet, mode='min', factor=0.5, patience=3)\n",
        "scheduler_alexnet = torch.optim.lr_scheduler.ReduceLROnPlateau(optimizer_alexnet, mode='min', factor=0.5, patience=3)\n",
        "\n",
        "print(\"✅ Optimizers and schedulers set up.\")\n"
      ],
      "metadata": {
        "colab": {
          "base_uri": "https://localhost:8080/"
        },
        "id": "ZhN3puYhIDFj",
        "outputId": "417e3255-26f7-4130-b6c1-ae51ffdb450d"
      },
      "execution_count": null,
      "outputs": [
        {
          "output_type": "stream",
          "name": "stdout",
          "text": [
            "✅ Optimizers and schedulers set up.\n"
          ]
        }
      ]
    },
    {
      "cell_type": "code",
      "source": [
        "import time\n",
        "from tqdm import tqdm\n",
        "\n",
        "def train_model(model, train_loader, val_loader, criterion, optimizer, scheduler, num_epochs=10):\n",
        "    model.train()\n",
        "    for epoch in range(num_epochs):\n",
        "        start_time = time.time()\n",
        "        running_loss = 0.0\n",
        "        correct, total = 0, 0\n",
        "\n",
        "        # Training loop\n",
        "        for inputs, labels in tqdm(train_loader, desc=f\"Epoch {epoch+1}/{num_epochs}\"):\n",
        "            inputs, labels = inputs.to(device), labels.to(device)\n",
        "\n",
        "            optimizer.zero_grad()\n",
        "            outputs = model(inputs)\n",
        "            loss = criterion(outputs, labels)\n",
        "            loss.backward()\n",
        "            optimizer.step()\n",
        "\n",
        "            running_loss += loss.item()\n",
        "            _, predicted = torch.max(outputs, 1)\n",
        "            correct += (predicted == labels).sum().item()\n",
        "            total += labels.size(0)\n",
        "\n",
        "        train_acc = 100 * correct / total\n",
        "        avg_loss = running_loss / len(train_loader)\n",
        "\n",
        "        # Validation loop\n",
        "        model.eval()\n",
        "        val_loss, val_correct, val_total = 0.0, 0, 0\n",
        "        with torch.no_grad():\n",
        "            for inputs, labels in val_loader:\n",
        "                inputs, labels = inputs.to(device), labels.to(device)\n",
        "                outputs = model(inputs)\n",
        "                val_loss += criterion(outputs, labels).item()\n",
        "                _, predicted = torch.max(outputs, 1)\n",
        "                val_correct += (predicted == labels).sum().item()\n",
        "                val_total += labels.size(0)\n",
        "\n",
        "        val_acc = 100 * val_correct / val_total\n",
        "        avg_val_loss = val_loss / len(val_loader)\n",
        "        scheduler.step(avg_val_loss)\n",
        "\n",
        "        print(f\"📊 Epoch {epoch+1}/{num_epochs} - Train Loss: {avg_loss:.4f}, Train Acc: {train_acc:.2f}% | Val Loss: {avg_val_loss:.4f}, Val Acc: {val_acc:.2f}% | Time: {time.time() - start_time:.2f}s\")\n",
        "\n",
        "    print(\"✅ Training Complete!\")\n",
        "\n",
        "# Train DenseNet-121\n",
        "train_model(densenet, train_loader, val_loader, criterion, optimizer_densenet, scheduler_densenet, num_epochs=10)\n",
        "\n",
        "# Train AlexNet\n",
        "train_model(alexnet, train_loader, val_loader, criterion, optimizer_alexnet, scheduler_alexnet, num_epochs=10)\n"
      ],
      "metadata": {
        "colab": {
          "base_uri": "https://localhost:8080/"
        },
        "id": "UQEH9sWIIGPd",
        "outputId": "e4969a97-963e-49f4-f04d-1f8cfcea6502"
      },
      "execution_count": null,
      "outputs": [
        {
          "output_type": "stream",
          "name": "stderr",
          "text": [
            "Epoch 1/10: 100%|██████████| 78/78 [00:30<00:00,  2.52it/s]\n"
          ]
        },
        {
          "output_type": "stream",
          "name": "stdout",
          "text": [
            "📊 Epoch 1/10 - Train Loss: 0.2328, Train Acc: 88.78% | Val Loss: 0.1125, Val Acc: 96.18% | Time: 41.72s\n"
          ]
        },
        {
          "output_type": "stream",
          "name": "stderr",
          "text": [
            "Epoch 2/10: 100%|██████████| 78/78 [00:29<00:00,  2.68it/s]\n"
          ]
        },
        {
          "output_type": "stream",
          "name": "stdout",
          "text": [
            "📊 Epoch 2/10 - Train Loss: 0.1996, Train Acc: 91.24% | Val Loss: 0.1489, Val Acc: 94.40% | Time: 38.87s\n"
          ]
        },
        {
          "output_type": "stream",
          "name": "stderr",
          "text": [
            "Epoch 3/10: 100%|██████████| 78/78 [00:30<00:00,  2.56it/s]\n"
          ]
        },
        {
          "output_type": "stream",
          "name": "stdout",
          "text": [
            "📊 Epoch 3/10 - Train Loss: 0.1599, Train Acc: 93.90% | Val Loss: 0.1581, Val Acc: 93.52% | Time: 40.48s\n"
          ]
        },
        {
          "output_type": "stream",
          "name": "stderr",
          "text": [
            "Epoch 4/10: 100%|██████████| 78/78 [00:28<00:00,  2.70it/s]\n"
          ]
        },
        {
          "output_type": "stream",
          "name": "stdout",
          "text": [
            "📊 Epoch 4/10 - Train Loss: 0.0870, Train Acc: 96.73% | Val Loss: 0.1897, Val Acc: 93.61% | Time: 39.47s\n"
          ]
        },
        {
          "output_type": "stream",
          "name": "stderr",
          "text": [
            "Epoch 5/10: 100%|██████████| 78/78 [00:29<00:00,  2.68it/s]\n"
          ]
        },
        {
          "output_type": "stream",
          "name": "stdout",
          "text": [
            "📊 Epoch 5/10 - Train Loss: 0.0620, Train Acc: 97.86% | Val Loss: 0.1292, Val Acc: 95.38% | Time: 40.22s\n"
          ]
        },
        {
          "output_type": "stream",
          "name": "stderr",
          "text": [
            "Epoch 6/10: 100%|██████████| 78/78 [00:28<00:00,  2.69it/s]\n"
          ]
        },
        {
          "output_type": "stream",
          "name": "stdout",
          "text": [
            "📊 Epoch 6/10 - Train Loss: 0.0342, Train Acc: 98.51% | Val Loss: 0.1420, Val Acc: 95.47% | Time: 40.15s\n"
          ]
        },
        {
          "output_type": "stream",
          "name": "stderr",
          "text": [
            "Epoch 7/10: 100%|██████████| 78/78 [00:28<00:00,  2.72it/s]\n"
          ]
        },
        {
          "output_type": "stream",
          "name": "stdout",
          "text": [
            "📊 Epoch 7/10 - Train Loss: 0.0141, Train Acc: 99.52% | Val Loss: 0.0959, Val Acc: 96.27% | Time: 39.82s\n"
          ]
        },
        {
          "output_type": "stream",
          "name": "stderr",
          "text": [
            "Epoch 8/10: 100%|██████████| 78/78 [00:28<00:00,  2.74it/s]\n"
          ]
        },
        {
          "output_type": "stream",
          "name": "stdout",
          "text": [
            "📊 Epoch 8/10 - Train Loss: 0.0142, Train Acc: 99.56% | Val Loss: 0.1012, Val Acc: 96.45% | Time: 39.60s\n"
          ]
        },
        {
          "output_type": "stream",
          "name": "stderr",
          "text": [
            "Epoch 9/10: 100%|██████████| 78/78 [00:28<00:00,  2.71it/s]\n"
          ]
        },
        {
          "output_type": "stream",
          "name": "stdout",
          "text": [
            "📊 Epoch 9/10 - Train Loss: 0.0134, Train Acc: 99.48% | Val Loss: 0.1630, Val Acc: 95.38% | Time: 39.82s\n"
          ]
        },
        {
          "output_type": "stream",
          "name": "stderr",
          "text": [
            "Epoch 10/10: 100%|██████████| 78/78 [00:28<00:00,  2.71it/s]\n"
          ]
        },
        {
          "output_type": "stream",
          "name": "stdout",
          "text": [
            "📊 Epoch 10/10 - Train Loss: 0.0062, Train Acc: 99.72% | Val Loss: 0.1770, Val Acc: 95.83% | Time: 39.81s\n",
            "✅ Training Complete!\n"
          ]
        },
        {
          "output_type": "stream",
          "name": "stderr",
          "text": [
            "Epoch 1/10: 100%|██████████| 78/78 [00:21<00:00,  3.67it/s]\n"
          ]
        },
        {
          "output_type": "stream",
          "name": "stdout",
          "text": [
            "📊 Epoch 1/10 - Train Loss: 0.2406, Train Acc: 89.10% | Val Loss: 0.1932, Val Acc: 92.72% | Time: 31.39s\n"
          ]
        },
        {
          "output_type": "stream",
          "name": "stderr",
          "text": [
            "Epoch 2/10: 100%|██████████| 78/78 [00:22<00:00,  3.43it/s]\n"
          ]
        },
        {
          "output_type": "stream",
          "name": "stdout",
          "text": [
            "📊 Epoch 2/10 - Train Loss: 0.1171, Train Acc: 94.99% | Val Loss: 0.1269, Val Acc: 95.20% | Time: 31.46s\n"
          ]
        },
        {
          "output_type": "stream",
          "name": "stderr",
          "text": [
            "Epoch 3/10: 100%|██████████| 78/78 [00:22<00:00,  3.41it/s]\n"
          ]
        },
        {
          "output_type": "stream",
          "name": "stdout",
          "text": [
            "📊 Epoch 3/10 - Train Loss: 0.0529, Train Acc: 98.30% | Val Loss: 0.1183, Val Acc: 95.91% | Time: 33.04s\n"
          ]
        },
        {
          "output_type": "stream",
          "name": "stderr",
          "text": [
            "Epoch 4/10: 100%|██████████| 78/78 [00:21<00:00,  3.65it/s]\n"
          ]
        },
        {
          "output_type": "stream",
          "name": "stdout",
          "text": [
            "📊 Epoch 4/10 - Train Loss: 0.0288, Train Acc: 98.87% | Val Loss: 0.2409, Val Acc: 93.07% | Time: 31.46s\n"
          ]
        },
        {
          "output_type": "stream",
          "name": "stderr",
          "text": [
            "Epoch 5/10: 100%|██████████| 78/78 [00:22<00:00,  3.44it/s]\n"
          ]
        },
        {
          "output_type": "stream",
          "name": "stdout",
          "text": [
            "📊 Epoch 5/10 - Train Loss: 0.0430, Train Acc: 98.47% | Val Loss: 0.1874, Val Acc: 94.67% | Time: 31.32s\n"
          ]
        },
        {
          "output_type": "stream",
          "name": "stderr",
          "text": [
            "Epoch 6/10: 100%|██████████| 78/78 [00:22<00:00,  3.41it/s]\n"
          ]
        },
        {
          "output_type": "stream",
          "name": "stdout",
          "text": [
            "📊 Epoch 6/10 - Train Loss: 0.0126, Train Acc: 99.56% | Val Loss: 0.2197, Val Acc: 94.85% | Time: 33.13s\n"
          ]
        },
        {
          "output_type": "stream",
          "name": "stderr",
          "text": [
            "Epoch 7/10: 100%|██████████| 78/78 [00:21<00:00,  3.65it/s]\n"
          ]
        },
        {
          "output_type": "stream",
          "name": "stdout",
          "text": [
            "📊 Epoch 7/10 - Train Loss: 0.0132, Train Acc: 99.48% | Val Loss: 0.2027, Val Acc: 95.03% | Time: 31.68s\n"
          ]
        },
        {
          "output_type": "stream",
          "name": "stderr",
          "text": [
            "Epoch 8/10: 100%|██████████| 78/78 [00:22<00:00,  3.42it/s]\n"
          ]
        },
        {
          "output_type": "stream",
          "name": "stdout",
          "text": [
            "📊 Epoch 8/10 - Train Loss: 0.0113, Train Acc: 99.52% | Val Loss: 0.1811, Val Acc: 95.91% | Time: 31.39s\n"
          ]
        },
        {
          "output_type": "stream",
          "name": "stderr",
          "text": [
            "Epoch 9/10: 100%|██████████| 78/78 [00:22<00:00,  3.43it/s]\n"
          ]
        },
        {
          "output_type": "stream",
          "name": "stdout",
          "text": [
            "📊 Epoch 9/10 - Train Loss: 0.0009, Train Acc: 100.00% | Val Loss: 0.1792, Val Acc: 96.18% | Time: 32.77s\n"
          ]
        },
        {
          "output_type": "stream",
          "name": "stderr",
          "text": [
            "Epoch 10/10: 100%|██████████| 78/78 [00:21<00:00,  3.68it/s]\n"
          ]
        },
        {
          "output_type": "stream",
          "name": "stdout",
          "text": [
            "📊 Epoch 10/10 - Train Loss: 0.0002, Train Acc: 100.00% | Val Loss: 0.2139, Val Acc: 95.74% | Time: 31.54s\n",
            "✅ Training Complete!\n"
          ]
        }
      ]
    },
    {
      "cell_type": "code",
      "source": [
        "import numpy as np\n",
        "import seaborn as sns\n",
        "import matplotlib.pyplot as plt\n",
        "from sklearn.metrics import confusion_matrix, classification_report, roc_auc_score\n",
        "\n",
        "def evaluate_metrics(model, test_loader, model_name=\"Model\"):\n",
        "    model.eval()\n",
        "    y_true, y_scores, y_pred = [], [], []\n",
        "\n",
        "    with torch.no_grad():\n",
        "        for images, labels in test_loader:\n",
        "            images, labels = images.to(device), labels.to(device)\n",
        "            outputs = model(images)\n",
        "\n",
        "            probs = torch.softmax(outputs, dim=1)[:, 1].cpu().numpy()\n",
        "            preds = torch.argmax(outputs, dim=1).cpu().numpy()\n",
        "\n",
        "            y_true.extend(labels.cpu().numpy())\n",
        "            y_scores.extend(probs)\n",
        "            y_pred.extend(preds)\n",
        "\n",
        "    y_true, y_scores, y_pred = np.array(y_true), np.array(y_scores), np.array(y_pred)\n",
        "    cm = confusion_matrix(y_true, y_pred)\n",
        "    tn, fp, fn, tp = cm.ravel()\n",
        "\n",
        "    sensitivity = tp / (tp + fn)\n",
        "    specificity = tn / (tn + fp)\n",
        "    auc = roc_auc_score(y_true, y_scores)\n",
        "\n",
        "    print(f\"✅ {model_name} Evaluation Results:\")\n",
        "    print(f\"🔹 AUROC Score: {auc:.4f}\")\n",
        "    print(f\"🔹 Sensitivity: {sensitivity:.4f}\")\n",
        "    print(f\"🔹 Specificity: {specificity:.4f}\")\n",
        "    print(\"\\n📊 Classification Report:\\n\", classification_report(y_true, y_pred, target_names=[\"Normal\", \"Abnormal\"]))\n",
        "\n",
        "    plt.figure(figsize=(6,5))\n",
        "    sns.heatmap(cm, annot=True, fmt=\"d\", cmap=\"Blues\", xticklabels=[\"Normal\", \"Abnormal\"], yticklabels=[\"Normal\", \"Abnormal\"])\n",
        "    plt.xlabel(\"Predicted Label\")\n",
        "    plt.ylabel(\"True Label\")\n",
        "    plt.title(f\"Confusion Matrix for {model_name}\")\n",
        "    plt.show()\n",
        "\n",
        "# Evaluate DenseNet-121\n",
        "evaluate_metrics(densenet, test_loader, model_name=\"DenseNet-121\")\n",
        "\n",
        "# Evaluate AlexNet\n",
        "evaluate_metrics(alexnet, test_loader, model_name=\"AlexNet\")\n"
      ],
      "metadata": {
        "colab": {
          "base_uri": "https://localhost:8080/",
          "height": 1000
        },
        "id": "DsImjLKULEjx",
        "outputId": "a5da2cdb-5afe-4858-b24b-bc1ddb5a98d5"
      },
      "execution_count": null,
      "outputs": [
        {
          "output_type": "stream",
          "name": "stdout",
          "text": [
            "✅ DenseNet-121 Evaluation Results:\n",
            "🔹 AUROC Score: 0.9937\n",
            "🔹 Sensitivity: 0.9323\n",
            "🔹 Specificity: 0.9855\n",
            "\n",
            "📊 Classification Report:\n",
            "               precision    recall  f1-score   support\n",
            "\n",
            "      Normal       0.93      0.99      0.96       552\n",
            "    Abnormal       0.99      0.93      0.96       576\n",
            "\n",
            "    accuracy                           0.96      1128\n",
            "   macro avg       0.96      0.96      0.96      1128\n",
            "weighted avg       0.96      0.96      0.96      1128\n",
            "\n"
          ]
        },
        {
          "output_type": "display_data",
          "data": {
            "text/plain": [
              "<Figure size 600x500 with 2 Axes>"
            ],
            "image/png": "[encoded data removed]"
          },
          "metadata": {}
        },
        {
          "output_type": "stream",
          "name": "stdout",
          "text": [
            "✅ AlexNet Evaluation Results:\n",
            "🔹 AUROC Score: 0.9908\n",
            "🔹 Sensitivity: 0.9410\n",
            "🔹 Specificity: 0.9801\n",
            "\n",
            "📊 Classification Report:\n",
            "               precision    recall  f1-score   support\n",
            "\n",
            "      Normal       0.94      0.98      0.96       552\n",
            "    Abnormal       0.98      0.94      0.96       576\n",
            "\n",
            "    accuracy                           0.96      1128\n",
            "   macro avg       0.96      0.96      0.96      1128\n",
            "weighted avg       0.96      0.96      0.96      1128\n",
            "\n"
          ]
        },
        {
          "output_type": "display_data",
          "data": {
            "text/plain": [
              "<Figure size 600x500 with 2 Axes>"
            ],
            "image/png": "[encoded data removed]"
          },
          "metadata": {}
        }
      ]
    }
  ]
}